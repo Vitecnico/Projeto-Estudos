{
  "nbformat": 4,
  "nbformat_minor": 0,
  "metadata": {
    "colab": {
      "provenance": [],
      "authorship_tag": "ABX9TyMn0fAUunwUjwbhGuchOfU7",
      "include_colab_link": true
    },
    "kernelspec": {
      "name": "python3",
      "display_name": "Python 3"
    },
    "language_info": {
      "name": "python"
    }
  },
  "cells": [
    {
      "cell_type": "markdown",
      "metadata": {
        "id": "view-in-github",
        "colab_type": "text"
      },
      "source": [
        "<a href=\"https://colab.research.google.com/github/Vitecnico/Projeto-Estudos-Data-Engineer/blob/main/Pyspark_Analises.ipynb\" target=\"_parent\"><img src=\"https://colab.research.google.com/assets/colab-badge.svg\" alt=\"Open In Colab\"/></a>"
      ]
    },
    {
      "cell_type": "markdown",
      "source": [
        "# Instalação de bibliotecas\n"
      ],
      "metadata": {
        "id": "g2mzSOrJUVdD"
      }
    },
    {
      "cell_type": "code",
      "execution_count": null,
      "metadata": {
        "id": "PTndfn9C6mcK"
      },
      "outputs": [],
      "source": [
        "!pip install pyspark"
      ]
    },
    {
      "cell_type": "code",
      "source": [
        "!pip install gcsfs"
      ],
      "metadata": {
        "id": "sMBI8VdMP_GS"
      },
      "execution_count": null,
      "outputs": []
    },
    {
      "cell_type": "code",
      "source": [],
      "metadata": {
        "id": "Gw8AjTRZQCtX"
      },
      "execution_count": null,
      "outputs": []
    },
    {
      "cell_type": "markdown",
      "source": [
        "#Import"
      ],
      "metadata": {
        "id": "07fBbvgBUe_V"
      }
    },
    {
      "cell_type": "code",
      "source": [
        "from pyspark.sql import SparkSession\n",
        "import pyspark.sql.functions as F\n",
        "from google.cloud import storage\n",
        "import os\n",
        "import pandas as pd"
      ],
      "metadata": {
        "id": "C10MVrLARDln"
      },
      "execution_count": null,
      "outputs": []
    },
    {
      "cell_type": "markdown",
      "source": [
        "#Chave de Segurança Google"
      ],
      "metadata": {
        "id": "3IlPbrGIU-By"
      }
    },
    {
      "cell_type": "code",
      "source": [
        "serviceAccount = '/content/aulas-bc26-laisa-510383ea5245.json'\n",
        "os.environ['GOOGLE_APPLICATION_CREDENTIALS'] = serviceAccount"
      ],
      "metadata": {
        "id": "s_cUaoDzTNpx"
      },
      "execution_count": null,
      "outputs": []
    },
    {
      "cell_type": "code",
      "source": [
        "pd.set_option('display.max_columns',100)"
      ],
      "metadata": {
        "id": "7xzYJB6MRgwU"
      },
      "execution_count": null,
      "outputs": []
    },
    {
      "cell_type": "markdown",
      "source": [
        "#Importação e extração de datasets"
      ],
      "metadata": {
        "id": "hP1BpgkuVO5m"
      }
    },
    {
      "cell_type": "markdown",
      "source": [
        "##Cloud Storage/Bucket"
      ],
      "metadata": {
        "id": "d3LaYVtSVj64"
      }
    },
    {
      "cell_type": "code",
      "source": [
        "#FAZER O ACESSO A BUCKET\n",
        "client = storage.Client()\n",
        "\n",
        "#CRIAR UMA VARIÁVEL PARA RECEBER O NOME DA BUCKET\n",
        "\n",
        "bucket = client.get_bucket('projetodupladinamica')\n",
        "\n",
        "#Atualiza/Cria um arquivo no bucket a partir de um arquivo local\n",
        "#blob1 = bucket.blob('D.SDA.PDA.005.CAT.202201')\n",
        "#blob.upload_from_filename('/content/D.SDA.PDA.005.CAT.202201.csv')\n",
        "\n",
        "#ESCOLHER O ARQUIVO DENTRO DA BUCKET\n",
        "\n",
        "\n",
        "path = 'gs://projetodupladinamica/INSS2022.csv'\n",
        "path2 = 'gs://projetodupladinamica/CAT.202201.orig.csv'\n",
        "#path2 = 'gs://projetodupladinamica/CAT.202204.orig.csv'\n",
        "#path2 = 'gs://projetodupladinamica/CAT.202210.orig.csv'"
      ],
      "metadata": {
        "id": "evc1M87CzX1R"
      },
      "execution_count": null,
      "outputs": []
    },
    {
      "cell_type": "markdown",
      "source": [
        "##Spark Session"
      ],
      "metadata": {
        "id": "RTgQ1t_6Vt6Z"
      }
    },
    {
      "cell_type": "code",
      "source": [
        "spark = (\n",
        "    SparkSession.builder\n",
        "                .master('local')\n",
        "                .appName('teste')\n",
        "                .config('spark.ui.port', '4050')\n",
        "                .config(\"spark.jars\", 'https://storage.googleapis.com/hadoop-lib/gcs/gcs-connector-hadoop2-latest.jar')\n",
        "                .getOrCreate()\n",
        ")"
      ],
      "metadata": {
        "id": "VmhSp-2v62Ep"
      },
      "execution_count": null,
      "outputs": []
    },
    {
      "cell_type": "code",
      "source": [
        "spark"
      ],
      "metadata": {
        "id": "44EfUED97bb-",
        "colab": {
          "base_uri": "https://localhost:8080/",
          "height": 219
        },
        "outputId": "cd48055b-4eae-4dbd-8262-e5cc00f78dfc"
      },
      "execution_count": null,
      "outputs": [
        {
          "output_type": "execute_result",
          "data": {
            "text/plain": [
              "<pyspark.sql.session.SparkSession at 0x7fe15ad10400>"
            ],
            "text/html": [
              "\n",
              "            <div>\n",
              "                <p><b>SparkSession - in-memory</b></p>\n",
              "                \n",
              "        <div>\n",
              "            <p><b>SparkContext</b></p>\n",
              "\n",
              "            <p><a href=\"http://8697ccc55a56:4050\">Spark UI</a></p>\n",
              "\n",
              "            <dl>\n",
              "              <dt>Version</dt>\n",
              "                <dd><code>v3.3.1</code></dd>\n",
              "              <dt>Master</dt>\n",
              "                <dd><code>local</code></dd>\n",
              "              <dt>AppName</dt>\n",
              "                <dd><code>teste</code></dd>\n",
              "            </dl>\n",
              "        </div>\n",
              "        \n",
              "            </div>\n",
              "        "
            ]
          },
          "metadata": {},
          "execution_count": 8
        }
      ]
    },
    {
      "cell_type": "markdown",
      "source": [
        "#Dataframes"
      ],
      "metadata": {
        "id": "IcEEwB0VVzaB"
      }
    },
    {
      "cell_type": "code",
      "source": [
        "#criando dataframes\n",
        "df_concatenado = (spark.read.format('csv')\n",
        "                 .option('header','true')\n",
        "                 .option('inferschema', 'true')\n",
        "                 .option('delimiter',',')\n",
        "                 .load(path)    \n",
        ")\n",
        "df = (spark.read.format('csv')\n",
        "                            .option('header','true')\n",
        "                            .option('inferschema', 'true')\n",
        "                            .option('delimiter',';')\n",
        "                            .load(path2)    \n",
        ")"
      ],
      "metadata": {
        "id": "-pJ3mTw_S2sf"
      },
      "execution_count": null,
      "outputs": []
    },
    {
      "cell_type": "code",
      "source": [
        "df_concatenado = df_concatenado.drop(F.col('_c0'))"
      ],
      "metadata": {
        "id": "CcdWFLscOr-L"
      },
      "execution_count": null,
      "outputs": []
    },
    {
      "cell_type": "code",
      "source": [],
      "metadata": {
        "id": "n_cpBdIITl3P"
      },
      "execution_count": null,
      "outputs": []
    },
    {
      "cell_type": "markdown",
      "source": [
        "# Formatando df originais para mongo db"
      ],
      "metadata": {
        "id": "VuT9sUgpyKIJ"
      }
    },
    {
      "cell_type": "code",
      "source": [
        "# Renomeando as colunas\n",
        "df_for_mongo = (df_concatenado.withColumnRenamed('CNAE2.0 Empregador5','CNAE2_empregador')\n",
        "               .withColumnRenamed('Data Acidente','data_acidente')\n",
        "               .withColumnRenamed('Data Acidente1','data_acidente')\n",
        "               .withColumnRenamed('CNAE2.0 Empregador4','CNAE2_empregador_Num')\n",
        "               .withColumnRenamed('Emitente CAT','emitente_CAT')\n",
        "               .withColumnRenamed('Espécie do benefício','especie_do_beneficio')\n",
        "               .withColumnRenamed('Filiação Segurado','filiacao_segurado')\n",
        "               .withColumnRenamed('Indica Óbito Acidente','indica_obito_acidente')\n",
        "               .withColumnRenamed('Munic Empr','municipio_empresa')\n",
        "               .withColumnRenamed('Natureza da Lesão','natureza_da_lesao')\n",
        "               .withColumnRenamed('Origem de Cadastramento CAT','origem_de_cadastramento_CAT')\n",
        "               .withColumnRenamed('Parte Corpo Atingida','parte_corpo_atingida')\n",
        "               .withColumnRenamed('Sexo','sexo')\n",
        "               .withColumnRenamed('Tipo do Acidente','tipo_do_acidente')\n",
        "               .withColumnRenamed('UF  Munic.  Acidente','UF_municipio_acidente')\n",
        "               .withColumnRenamed('UF Munic. Empregador','UF_municipio_empregador')\n",
        "               .withColumnRenamed('Data Acidente18','data_acidente1')\n",
        "               .withColumnRenamed('Data Despacho Benefício','data_despacho_beneficio')\n",
        "               .withColumnRenamed('Data Acidente20','data_acidente2')\n",
        "               .withColumnRenamed('Data Nascimento','data_nascimento')\n",
        "               .withColumnRenamed('Data Emissão CAT','data_emissao_CAT')\n",
        "               .withColumnRenamed('CNPJ/CEI Empregador','CNPJ/CEI_empregador')\n",
        "               .withColumnRenamed('Data Acidente.1','data_acidente1')\n",
        "               .withColumnRenamed('Data Acidente.2','data_acidente2')\n",
        "               .withColumnRenamed('CNAE2.0 Empregador','CNAE2_empregador_Num')\n",
        "               .withColumnRenamed('CNAE2.0 Empregador.1','CNAE2_empregador')\n",
        "               .withColumnRenamed('Sexo','sexo')\n",
        "               .withColumnRenamed('Filia��o Segurado','filiacao_segurado')\n",
        "               .withColumnRenamed('Esp�cie do benef�cio','especie_do_beneficio')\n",
        "               .withColumnRenamed('Indica �bito Acidente','indica_obito_acidente')\n",
        "               .withColumnRenamed('Natureza da Les�o','natureza_da_lesao')\n",
        "               .withColumnRenamed('Data Despacho Benef�cio','data_despacho_beneficio')\n",
        "               .withColumnRenamed('Data Emiss�o CAT','data_emissao_CAT')\n",
        "               .withColumnRenamed('Agente  Causador  Acidente','Agente_Causador_Acidente')\n",
        "               \n",
        "\n",
        ")\n",
        "df_for_mongo.dtypes"
      ],
      "metadata": {
        "colab": {
          "base_uri": "https://localhost:8080/"
        },
        "id": "kF9F1gAj0WYQ",
        "outputId": "a99c038e-f834-4867-83e5-37fd201232bb"
      },
      "execution_count": null,
      "outputs": [
        {
          "output_type": "execute_result",
          "data": {
            "text/plain": [
              "[('Agente_Causador_Acidente', 'string'),\n",
              " ('data_acidente', 'string'),\n",
              " ('CBO', 'string'),\n",
              " ('CID-10', 'string'),\n",
              " ('CNAE2_empregador_Num', 'int'),\n",
              " ('CNAE2_empregador', 'string'),\n",
              " ('emitente_CAT', 'string'),\n",
              " ('especie_do_beneficio', 'string'),\n",
              " ('filiacao_segurado', 'string'),\n",
              " ('indica_obito_acidente', 'string'),\n",
              " ('municipio_empresa', 'string'),\n",
              " ('natureza_da_lesao', 'string'),\n",
              " ('origem_de_cadastramento_CAT', 'string'),\n",
              " ('parte_corpo_atingida', 'string'),\n",
              " ('sexo', 'string'),\n",
              " ('tipo_do_acidente', 'string'),\n",
              " ('UF_municipio_acidente', 'string'),\n",
              " ('UF_municipio_empregador', 'string'),\n",
              " ('data_acidente1', 'string'),\n",
              " ('data_despacho_beneficio', 'string'),\n",
              " ('data_acidente2', 'string'),\n",
              " ('data_nascimento', 'string'),\n",
              " ('data_emissao_CAT', 'string'),\n",
              " ('CNPJ/CEI_empregador', 'string')]"
            ]
          },
          "metadata": {},
          "execution_count": 96
        }
      ]
    },
    {
      "cell_type": "code",
      "source": [
        "#drop de coluna repetida\n",
        "df_for_mongo2 = df_for_mongo.drop(F.col('data_acidente1'))"
      ],
      "metadata": {
        "id": "s9UWXxZCZVc6"
      },
      "execution_count": null,
      "outputs": []
    },
    {
      "cell_type": "code",
      "source": [
        "df_for_mongo2 = df_for_mongo2.dropDuplicates()"
      ],
      "metadata": {
        "id": "bBiHXic3j6bu"
      },
      "execution_count": null,
      "outputs": []
    },
    {
      "cell_type": "code",
      "source": [
        "df_for_mongo2.show()"
      ],
      "metadata": {
        "colab": {
          "base_uri": "https://localhost:8080/"
        },
        "id": "VOB6QTKNZITp",
        "outputId": "d947ec05-f101-4b1c-899c-6c8e20e298e0"
      },
      "execution_count": null,
      "outputs": [
        {
          "output_type": "stream",
          "name": "stdout",
          "text": [
            "+------------------------+-------------+--------------------+--------------------+--------------------+--------------------+-------------------+--------------------+--------------------+---------------------+--------------------+--------------------+---------------------------+--------------------+-------------+----------------+---------------------+-----------------------+-----------------------+--------------+---------------+----------------+-------------------+\n",
            "|Agente_Causador_Acidente|data_acidente|                 CBO|              CID-10|CNAE2_empregador_Num|    CNAE2_empregador|       emitente_CAT|especie_do_beneficio|   filiacao_segurado|indica_obito_acidente|   municipio_empresa|   natureza_da_lesao|origem_de_cadastramento_CAT|parte_corpo_atingida|         sexo|tipo_do_acidente|UF_municipio_acidente|UF_municipio_empregador|data_despacho_beneficio|data_acidente2|data_nascimento|data_emissao_CAT|CNPJ/CEI_empregador|\n",
            "+------------------------+-------------+--------------------+--------------------+--------------------+--------------------+-------------------+--------------------+--------------------+---------------------+--------------------+--------------------+---------------------------+--------------------+-------------+----------------+---------------------+-----------------------+-----------------------+--------------+---------------+----------------+-------------------+\n",
            "|    Embalagem e Recip...|      2022/10|{� class}        ...|S62.2 Frat do Pri...|                8112|Condominios Predi...|Empregador         |Pa               ...|Empregado        ...|                  N�o|410140-Apucarana ...|Fratura          ...|                   Internet|Dedo             ...|Feminino     |        T�pico  |     Roraima         |    Paran�             |                0000/00|    05/10/2022|     18/01/1985|      06/10/2022| 00.000.000.000.000|\n",
            "|    {� class}        ...|      2022/09|223208-Cirurgi�o ...|Y28.2 Escolas Out...|                8610|Atividades de Ate...|Empregador         |Pa               ...|Empregado        ...|                  N�o|354870-S�o Bernar...|Corte, Laceracao,...|                   Internet|Dedo             ...|Feminino     |        T�pico  |     Maranh�o        |    S�o Paulo          |                0000/00|    16/09/2022|     23/04/1975|      06/10/2022| 57.571.275.002.570|\n",
            "|    Impacto de Pes. C...|      2022/10|223505-Enfermeiro...|S06.6 Hemorragia ...|                8610|Atividades de Ate...|Empregador         |Pa               ...|Empregado        ...|                  Sim|355030-S�o Paulo ...|Concussao Cerebra...|                   Internet|Cranio (Inclusive...|Masculino    |        Trajeto |     Maranh�o        |    S�o Paulo          |                0000/00|    05/10/2022|     11/09/1992|      07/10/2022| 00.000.000.000.000|\n",
            "|    Veiculo Rodoviari...|      2022/10|783225-Ajudante d...|T01.6 Ferim Envol...|                4930|Transporte Rodovi...|Empregador         |Pa               ...|Empregado        ...|                  N�o|410370-Camb�     ...|Escoriacao, Abras...|                   Internet|Partes Multiplas ...|Masculino    |        Trajeto |     Roraima         |    Paran�             |                0000/00|    05/10/2022|     29/09/1999|      07/10/2022| 00.000.000.000.000|\n",
            "|    Agua - Usar Quand...|      2022/10|784205-Alimentado...|T25.2 Queim de 2....|                1071|Fabricacao de Acu...|Empregador         |Pa               ...|Empregado        ...|                  N�o|261190-Rio Formos...|Queimadura ou Esc...|                   Internet|Pe (Exceto Artelh...|Masculino    |        T�pico  |     Par�            |    Pernambuco         |                0000/00|    06/10/2022|     27/04/1996|      07/10/2022| 00.000.000.000.000|\n",
            "|    Maquina Agricola ...|      2022/10|641015-Tratorista...|S60.2 Contusao de...|                   0|{� class}        ...|Empregador         |Pa               ...|Empregado        ...|                  N�o|000000-Ignorado  ...|Contusao, Esmagam...|                   Internet|Punho            ...|Masculino    |        T�pico  |     Zerado          |    Zerado             |                0000/00|    06/10/2022|     30/06/1961|      07/10/2022| 00.000.000.000.000|\n",
            "|    Queda de Pes. com...|      2022/10|{� class}        ...|T14.9 Traum Ne   ...|                8640|Atividades de Ser...|Empregador         |Pa               ...|Empregado        ...|                  N�o|352590-Jundia�   ...|Lesoes Multiplas ...|                   Internet|Mao (Exceto Punho...|Masculino    |        Trajeto |     Maranh�o        |    S�o Paulo          |                0000/00|    05/10/2022|     24/05/1998|      07/10/2022| 00.000.000.000.000|\n",
            "|    Impacto de Pes. C...|      2022/09|763215-Costureiro...|S61.1 Ferim de De...|                1412|Confeccao de Peca...|Empregador         |Pa               ...|Empregado        ...|                  N�o|230970-Pacatuba-C...|Lesao Imediata   ...|                   Internet|Dedo             ...|Feminino     |        T�pico  |     {� class}       |    Cear�              |                0000/00|    26/09/2022|     30/09/1986|      07/10/2022| 00.000.000.000.000|\n",
            "|    Atrito ou Abrasao...|      2022/10|223505-Enfermeiro...|Z20.9 Contato Exp...|                8610|Atividades de Ate...|Empregador         |Pa               ...|Empregado        ...|                  N�o|320500-Serra     ...|Lesao Imediata, N...|                   Internet|Olho (Inclusive N...|Feminino     |        T�pico  |     {� class}       |    Esp�rito Santo     |                0000/00|    06/10/2022|     15/11/1995|      07/10/2022| 00.000.000.000.000|\n",
            "|    Madeira (Toro, Ma...|      2022/10|774105-Montador d...|S62.6 Frat de Out...|                1623|Fabricacao de Art...|Empregador         |Pa               ...|Empregado        ...|                  N�o|353070-Moji-Gua�u...|Contusao, Esmagam...|                   Internet|Dedo             ...|Masculino    |        T�pico  |     Maranh�o        |    S�o Paulo          |                0000/00|    06/10/2022|     31/05/1973|      07/10/2022| 00.000.000.000.000|\n",
            "|    Motocicleta, Moto...|      2022/10|811130-Trab. de F...|S82.3 Frat da Ext...|                2071|Fabricacao de Tin...|Empregador         |Pa               ...|Empregado        ...|                  N�o|420650-Guaramirim...|Fratura          ...|                   Internet|Articulacao do To...|Masculino    |        Trajeto |     {� class}       |    Santa Catarina     |                0000/00|    06/10/2022|     17/07/1998|      09/10/2022| 00.000.000.000.000|\n",
            "|    Trator           ...|      2022/10|641015-Tratorista...|S22.0 Frat de Ver...|                2101|{� class}        ...|Empregador         |Pa               ...|Empregado        ...|                  N�o|000000-Ignorado  ...|Fratura          ...|                   Internet|Dorso (Inclusive ...|Masculino    |        T�pico  |     Zerado          |    Zerado             |                0000/00|    03/10/2022|     03/05/1971|      10/10/2022| 00.000.000.000.000|\n",
            "|    Impacto de Pes. C...|      2022/09|411010-Assistente...|S92.3 Frat de Oss...|                9499|Atividades Associ...|Empregador         |Pa               ...|Empregado        ...|                  N�o|510340-Cuiab�    ...|Fratura          ...|                   Internet|Pe (Exceto Artelh...|Feminino     |        Trajeto |     {� class}       |    Mato Grosso        |                0000/00|    26/09/2022|     14/05/1959|      10/10/2022| 00.000.000.000.000|\n",
            "|    Motocicleta, Moto...|      2022/10|725105-Mont. M�qu...|T14.6 Traum de Mu...|                2941|Fabricacao de Pec...|Empregador         |Pa               ...|Empregado        ...|                  N�o|420590-Gaspar    ...|Lesao Imediata   ...|                   Internet|Cabeca, Nic      ...|Feminino     |        Trajeto |     {� class}       |    Santa Catarina     |                0000/00|    03/10/2022|     01/07/1978|      10/10/2022| 00.000.000.000.000|\n",
            "|    Inalacao de Subst...|      2022/10|784205-Alimentado...|X47.9 Local Ne   ...|                1011|Abate de Reses, E...|Empregador         |Pa               ...|Empregado        ...|                  N�o|521400-Mozarl�ndi...|Envenenamento Sis...|                   Internet|Nariz (Inclusive ...|Feminino     |        T�pico  |     {� class}       |    Goi�s              |                0000/00|    10/10/2022|     11/02/1996|      11/10/2022| 00.000.000.000.000|\n",
            "|    Politriz, Lixador...|      2022/10|821305-Oper. Lami...|S41.1 Ferim do Br...|                2833|Fabricacao de Maq...|Empregador         |Pa               ...|Empregado        ...|                  N�o|354940-S�o Joaqui...|Lesao Imediata, N...|                   Internet|Braco (Entre O Pu...|Masculino    |        T�pico  |     Maranh�o        |    S�o Paulo          |                0000/00|    08/10/2022|     19/07/1999|      11/10/2022| 00.000.000.000.000|\n",
            "|    Produto Biologico...|      2022/10|322205-Tec. de En...|Y28.9 Local Ne   ...|                8660|Atividades de Apo...|Empregador         |Pa               ...|Empregado        ...|                  N�o|354850-Santos    ...|Doenca Contagiosa...|                   Internet|Dedo             ...|Feminino     |        T�pico  |     Maranh�o        |    S�o Paulo          |                0000/00|    10/10/2022|     02/07/1995|      11/10/2022| 00.000.000.000.000|\n",
            "|    Motocicleta, Moto...|      2022/10|717020-Servente d...|S42.0 Frat da Cla...|                8411|Administracao Pub...|Empregador         |Pa               ...|Empregado        ...|                  N�o|350320-Araraquara...|Fratura          ...|                   Internet|Membros Superiore...|Masculino    |        Trajeto |     Maranh�o        |    S�o Paulo          |                0000/00|    10/10/2022|     01/06/1962|      11/10/2022| 45.276.128.000.110|\n",
            "|    Aprision. Em, Sob...|      2022/10|764115-Preparador...|S62.6 Frat de Out...|                1531|Fabricacao de Cal...|Empregador         |Pa               ...|Empregado        ...|                  N�o|230550-Iguatu-Ce ...|Fratura          ...|                   Internet|Dedo             ...|Masculino    |        T�pico  |     {� class}       |    Cear�              |                0000/00|    10/10/2022|     19/07/1998|      11/10/2022| 00.000.000.000.000|\n",
            "|    Aprision. Em, Sob...|      2022/10|724315-Soldador  ...|S62.0 Frat do Oss...|                2599|Fabricacao de Pro...|Empregador         |Pa               ...|Empregado        ...|                  N�o|352690-Limeira   ...|Fratura          ...|                   Internet|Dedo             ...|Masculino    |        T�pico  |     Maranh�o        |    S�o Paulo          |                0000/00|    10/10/2022|     26/02/1985|      11/10/2022| 00.000.000.000.000|\n",
            "+------------------------+-------------+--------------------+--------------------+--------------------+--------------------+-------------------+--------------------+--------------------+---------------------+--------------------+--------------------+---------------------------+--------------------+-------------+----------------+---------------------+-----------------------+-----------------------+--------------+---------------+----------------+-------------------+\n",
            "only showing top 20 rows\n",
            "\n"
          ]
        }
      ]
    },
    {
      "cell_type": "code",
      "source": [
        "df_for_mongo_pd = df_for_mongo2.toPandas()\n"
      ],
      "metadata": {
        "id": "xl1gMWIEela6"
      },
      "execution_count": null,
      "outputs": []
    },
    {
      "cell_type": "code",
      "source": [
        "df_for_mongo_pd.to_csv('dfmongo3.csv', index=False)"
      ],
      "metadata": {
        "id": "EPUB-FdzgTdM"
      },
      "execution_count": null,
      "outputs": []
    },
    {
      "cell_type": "code",
      "source": [
        "#blob = bucket.blob('CAT.202201.ToMongo3.csv')\n",
        "#blob.upload_from_filename('/content/dfmongo3.csv')"
      ],
      "metadata": {
        "id": "aIJnyOnIT-ln"
      },
      "execution_count": null,
      "outputs": []
    },
    {
      "cell_type": "code",
      "source": [],
      "metadata": {
        "id": "ISUTz5wgZhjs"
      },
      "execution_count": null,
      "outputs": []
    },
    {
      "cell_type": "markdown",
      "source": [
        "# analises do pd\n"
      ],
      "metadata": {
        "id": "V3TEdFQrTfov"
      }
    },
    {
      "cell_type": "code",
      "source": [
        "pd.unique(df_for_mongo_pd['tipo_do_acidente'])"
      ],
      "metadata": {
        "colab": {
          "base_uri": "https://localhost:8080/"
        },
        "id": "o_ZeBm3GhccC",
        "outputId": "9991bd6b-9ebb-4183-cee2-9893d226a631"
      },
      "execution_count": null,
      "outputs": [
        {
          "output_type": "execute_result",
          "data": {
            "text/plain": [
              "array(['Doen�a  ', 'T�pico  ', 'Trajeto ', 'Ignorado'], dtype=object)"
            ]
          },
          "metadata": {},
          "execution_count": 79
        }
      ]
    },
    {
      "cell_type": "code",
      "source": [
        "df_for_mongo_pd.dtypes"
      ],
      "metadata": {
        "colab": {
          "base_uri": "https://localhost:8080/"
        },
        "id": "ZHmxrNZSaT2C",
        "outputId": "e6362979-6b72-4463-c3d8-ce4ae37c535d"
      },
      "execution_count": null,
      "outputs": [
        {
          "output_type": "execute_result",
          "data": {
            "text/plain": [
              "Agente_Causador_Acidente       object\n",
              "data_acidente                  object\n",
              "CBO                            object\n",
              "CID-10                         object\n",
              "CNAE2_empregador_Num            int32\n",
              "CNAE2_empregador               object\n",
              "emitente_CAT                   object\n",
              "especie_do_beneficio           object\n",
              "filiacao_segurado              object\n",
              "indica_obito_acidente          object\n",
              "municipio_empresa              object\n",
              "natureza_da_lesao              object\n",
              "origem_de_cadastramento_CAT    object\n",
              "parte_corpo_atingida           object\n",
              "sexo                           object\n",
              "tipo_do_acidente               object\n",
              "UF_municipio_acidente          object\n",
              "UF_municipio_empregador        object\n",
              "data_despacho_beneficio        object\n",
              "data_acidente2                 object\n",
              "data_nascimento                object\n",
              "data_emissao_CAT               object\n",
              "CNPJ/CEI_empregador            object\n",
              "dtype: object"
            ]
          },
          "metadata": {},
          "execution_count": 80
        }
      ]
    },
    {
      "cell_type": "code",
      "source": [
        "df_for_mongo_pd.isnull().sum()"
      ],
      "metadata": {
        "colab": {
          "base_uri": "https://localhost:8080/"
        },
        "id": "eWUPA4JEg9EK",
        "outputId": "3ee25f38-de57-4053-c2c4-253aee7f5d91"
      },
      "execution_count": null,
      "outputs": [
        {
          "output_type": "execute_result",
          "data": {
            "text/plain": [
              "Agente_Causador_Acidente       0\n",
              "data_acidente                  0\n",
              "CBO                            0\n",
              "CID-10                         0\n",
              "CNAE2_empregador_Num           0\n",
              "CNAE2_empregador               0\n",
              "emitente_CAT                   0\n",
              "especie_do_beneficio           0\n",
              "filiacao_segurado              0\n",
              "indica_obito_acidente          0\n",
              "municipio_empresa              0\n",
              "natureza_da_lesao              0\n",
              "origem_de_cadastramento_CAT    0\n",
              "parte_corpo_atingida           0\n",
              "sexo                           0\n",
              "tipo_do_acidente               0\n",
              "UF_municipio_acidente          0\n",
              "UF_municipio_empregador        0\n",
              "data_despacho_beneficio        0\n",
              "data_acidente2                 0\n",
              "data_nascimento                0\n",
              "data_emissao_CAT               0\n",
              "CNPJ/CEI_empregador            0\n",
              "dtype: int64"
            ]
          },
          "metadata": {},
          "execution_count": 81
        }
      ]
    },
    {
      "cell_type": "markdown",
      "source": [
        "## tratando valores"
      ],
      "metadata": {
        "id": "wv4iQX1h53ie"
      }
    },
    {
      "cell_type": "code",
      "source": [
        "colunas = df_for_mongo2.columns\n",
        "print(colunas)"
      ],
      "metadata": {
        "colab": {
          "base_uri": "https://localhost:8080/"
        },
        "id": "6TePyQ9R3Wr1",
        "outputId": "096d6965-0686-4e1b-ee1f-30078e9df6b2"
      },
      "execution_count": null,
      "outputs": [
        {
          "output_type": "stream",
          "name": "stdout",
          "text": [
            "['Agente_Causador_Acidente', 'data_acidente', 'CBO', 'CID-10', 'CNAE2_empregador_Num', 'CNAE2_empregador', 'emitente_CAT', 'especie_do_beneficio', 'filiacao_segurado', 'indica_obito_acidente', 'municipio_empresa', 'natureza_da_lesao', 'origem_de_cadastramento_CAT', 'parte_corpo_atingida', 'sexo', 'tipo_do_acidente', 'UF_municipio_acidente', 'UF_municipio_empregador', 'data_despacho_beneficio', 'data_acidente2', 'data_nascimento', 'data_emissao_CAT', 'CNPJ/CEI_empregador']\n"
          ]
        }
      ]
    },
    {
      "cell_type": "code",
      "source": [
        "df_for_mongo3 = df_for_mongo2"
      ],
      "metadata": {
        "id": "zgmA8YqCG9LR"
      },
      "execution_count": null,
      "outputs": []
    },
    {
      "cell_type": "code",
      "source": [
        "for i in colunas:\n",
        "    df_for_mongo3 = df_for_mongo3.withColumn(i,F.when((F.col(i).like('%}%')) ,'N/A').otherwise(F.col(i))) \\\n",
        "                                 .withColumn(i,F.when((F.col(i).like('%Nulo%')),'N/A').otherwise(F.col(i))) \\\n",
        "                                 .withColumn(i,F.when((F.col(i)=='00.000.000.000.000'),'N/A').otherwise(F.col(i))) \\\n",
        "                                 .withColumn(i,F.when((F.col(i)=='0000/00'),'N/A').otherwise(F.col(i)))\\\n",
        "                                 "
      ],
      "metadata": {
        "id": "4RPCisE83yDC"
      },
      "execution_count": null,
      "outputs": []
    },
    {
      "cell_type": "code",
      "source": [],
      "metadata": {
        "id": "Yd3SgF0UGsp9"
      },
      "execution_count": null,
      "outputs": []
    },
    {
      "cell_type": "code",
      "source": [
        "df_for_mongo3.show()"
      ],
      "metadata": {
        "colab": {
          "base_uri": "https://localhost:8080/"
        },
        "id": "UKTC9vz04IZY",
        "outputId": "e013ddb5-02c2-495d-d43b-c592de741241"
      },
      "execution_count": null,
      "outputs": [
        {
          "output_type": "stream",
          "name": "stdout",
          "text": [
            "+------------------------+-------------+--------------------+--------------------+--------------------+--------------------+-------------------+--------------------+--------------------+---------------------+--------------------+--------------------+---------------------------+--------------------+-------------+----------------+---------------------+-----------------------+-----------------------+--------------+---------------+----------------+-------------------+\n",
            "|Agente_Causador_Acidente|data_acidente|                 CBO|              CID-10|CNAE2_empregador_Num|    CNAE2_empregador|       emitente_CAT|especie_do_beneficio|   filiacao_segurado|indica_obito_acidente|   municipio_empresa|   natureza_da_lesao|origem_de_cadastramento_CAT|parte_corpo_atingida|         sexo|tipo_do_acidente|UF_municipio_acidente|UF_municipio_empregador|data_despacho_beneficio|data_acidente2|data_nascimento|data_emissao_CAT|CNPJ/CEI_empregador|\n",
            "+------------------------+-------------+--------------------+--------------------+--------------------+--------------------+-------------------+--------------------+--------------------+---------------------+--------------------+--------------------+---------------------------+--------------------+-------------+----------------+---------------------+-----------------------+-----------------------+--------------+---------------+----------------+-------------------+\n",
            "|                     N/A|      2022/05|515105-Agente Com...|B34.2 Infecc p/Co...|                8630|Atividades de Ate...|Empregador         |Pa               ...|Empregado        ...|                  N�o|354780-Santo Andr...|Doenca Contagiosa...|                   Internet|Aparelho Respirat...|Feminino     |        Doen�a  |     Maranh�o        |    S�o Paulo          |                    N/A|    22/05/2022|     27/06/1972|      01/06/2022| 57.571.275.002.570|\n",
            "|    Atrito ou Abrasao...|      2022/05|322225-Instrument...|Z20.9 Contato Exp...|                8610|Atividades de Ate...|Empregador         |Pa               ...|Empregado        ...|                  N�o|431490-Porto Aleg...|Corte, Laceracao,...|                   Internet|Dedo             ...|Feminino     |        T�pico  |                  N/A|    Rio Grande do Sul  |                    N/A|    27/05/2022|     28/02/1980|      01/06/2022| 26.947.257.000.149|\n",
            "|    Metal - Inclui Li...|      2022/05|717020-Servente d...|S80.0 Contusao do...|                4120|Construcao de Edi...|Empregador         |Pa               ...|Empregado        ...|                  N�o|355030-S�o Paulo ...|Contusao, Esmagam...|                   Internet|Joelho           ...|Masculino    |        T�pico  |     Maranh�o        |    S�o Paulo          |                    N/A|    27/05/2022|     07/08/1995|      01/06/2022|                N/A|\n",
            "|    Queda de Pes. com...|      2022/05|717020-Servente d...|S93.4 Entorse e D...|                4120|Construcao de Edi...|Empregador         |Pa               ...|Empregado        ...|                  N�o|000000-Ignorado  ...|Distensao, Torcao...|                   Internet|Pe (Exceto Artelh...|Masculino    |        T�pico  |     Zerado          |    Zerado             |                    N/A|    30/05/2022|     06/06/1965|      01/06/2022|                N/A|\n",
            "|    Maquina, Nic     ...|      2022/05|848520-Magarefe  ...|S62.6 Frat de Out...|                1012|Abate de Suinos, ...|Empregador         |Pa               ...|Empregado        ...|                  N�o|355710-Votuporang...|Corte, Laceracao,...|                   Internet|Dedo             ...|Masculino    |        T�pico  |     Maranh�o        |    S�o Paulo          |                    N/A|    27/05/2022|     30/03/2000|      01/06/2022|                N/A|\n",
            "|    Motocicleta, Moto...|      2022/06|623305-Trab. Avic...|S91.3 Ferim de Ou...|                 155|Criacao de Aves  ...|Empregador         |Pa               ...|Empregado        ...|                  N�o|353300-Nova Grana...|Lesao Imediata   ...|                   Internet|Pe (Exceto Artelh...|Feminino     |        T�pico  |     Maranh�o        |    S�o Paulo          |                    N/A|    01/06/2022|     04/03/1997|      01/06/2022|                N/A|\n",
            "|    Veiculo, Nic     ...|      2022/05|                 N/A|S81.8 Ferim de Ou...|                8599|Atividades de Ens...|Empregador         |Pa               ...|Empregado        ...|                  N�o|353130-Monte Alto...|Outras Lesoes, Ni...|                   Internet|Perna (Entre O To...|Feminino     |        Trajeto |     Maranh�o        |    S�o Paulo          |                    N/A|    25/05/2022|     25/07/1977|      01/06/2022|                N/A|\n",
            "|    Aprision. Em, Sob...|      2022/04|782220-Oper. de E...|S61.0 Ferim de De...|                1621|Fabricacao de Mad...|Empregador         |Pa               ...|Empregado        ...|                  N�o|350070-Agudos    ...|Corte, Laceracao,...|                   Internet|Dedo             ...|Masculino    |        T�pico  |     Maranh�o        |    S�o Paulo          |                    N/A|    29/04/2022|     18/01/1966|      01/06/2022|                N/A|\n",
            "|    Veiculo Rodoviari...|      2022/05|411005-Auxiliar d...|S62.3 Frat de Out...|                6920|Atividades de Con...|Empregador         |Pa               ...|Empregado        ...|                  N�o|130260-Manaus    ...|Fratura          ...|                   Internet|Membros Superiore...|Feminino     |        Trajeto |     Rond�nia        |    Minas Gerais       |                    N/A|    31/05/2022|     16/03/1992|      01/06/2022|                N/A|\n",
            "|    Impacto de Pes. C...|      2022/05|784105-Embalador,...|M62.0 Diastase de...|                2511|Fabricacao de Est...|Empregador         |Pa               ...|Empregado        ...|                  N�o|311660-Cl�udio   ...|Outras Lesoes, Ni...|                   Internet|Ombro            ...|Feminino     |        T�pico  |     Rond�nia        |    Minas Gerais       |                    N/A|    25/05/2022|     11/10/1969|      01/06/2022|                N/A|\n",
            "|    Metal - Inclui Li...|      2022/05|724315-Soldador  ...|T11.9 Traum Ne do...|                2930|Fabricacao de Cab...|Empregador         |Pa               ...|Empregado        ...|                  N�o|353030-Mirassol  ...|Contusao, Esmagam...|                   Internet|Mao (Exceto Punho...|Masculino    |        T�pico  |     Maranh�o        |    S�o Paulo          |                    N/A|    31/05/2022|     27/05/1995|      01/06/2022|                N/A|\n",
            "|    Louca de Mesa e O...|      2022/05|513205-Cozinheiro...|S61.0 Ferim de De...|                9411|Atividades de Org...|Empregador         |Pa               ...|Empregado        ...|                  N�o|313670-Juiz de Fo...|Corte, Laceracao,...|                   Internet|Dedo             ...|Feminino     |        T�pico  |     Rond�nia        |    Minas Gerais       |                    N/A|    30/05/2022|     04/08/1966|      01/06/2022|                N/A|\n",
            "|    Impacto de Pes. C...|      2022/05|914405-Mec. Manut...|S06.8 Outr Traum ...|                4520|Manutencao e Repa...|Empregador         |Pa               ...|Empregado        ...|                  N�o|150240-Castanhal ...|Lesao Imediata   ...|                   Internet|Olho (Inclusive N...|Masculino    |        T�pico  |     Acre            |    Par�               |                    N/A|    24/05/2022|     06/06/1997|      01/06/2022|                N/A|\n",
            "|    Impacto de Pes. C...|      2022/05|821440-Oper. Teso...|S32.0 Frat de Ver...|                2710|Fabricacao de Ger...|Empregador         |Pa               ...|Empregado        ...|                  N�o|420240-Blumenau  ...|Contusao, Esmagam...|                   Internet|Tronco, Nic      ...|Masculino    |        Trajeto |                  N/A|    Santa Catarina     |                    N/A|    28/05/2022|     09/04/1999|      02/06/2022|                N/A|\n",
            "|    Veiculo Rodoviari...|      2022/05|782410-Motorista ...|M65.9 Sinovite e ...|                4921|Transporte Rodovi...|Empregador         |Pa               ...|Empregado        ...|                  N�o|431490-Porto Aleg...|Inflamacao de Art...|                   Internet|Ombro            ...|Masculino    |        Doen�a  |                  N/A|    Rio Grande do Sul  |                    N/A|    06/05/2022|     15/02/1978|      02/06/2022|                N/A|\n",
            "|    Escada Permanente...|      2022/06|782305-Motorista ...|T09.9 Traum Ne do...|                8610|Atividades de Ate...|Empregador         |Pa               ...|Empregado        ...|                  N�o|355030-S�o Paulo ...|Escoriacao, Abras...|                   Internet|Membros Superiore...|Masculino    |        T�pico  |     Maranh�o        |    S�o Paulo          |                    N/A|    01/06/2022|     22/10/1971|      02/06/2022| 11.344.038.002.060|\n",
            "|    Elevador - Equip....|      2022/06|914405-Mec. Manut...|S52.1 Frat da Ext...|                4530|Comercio de Pecas...|Empregador         |Pa               ...|Empregado        ...|                  N�o|310350-Araguari  ...|Fratura          ...|                   Internet|Antebraco (Entre ...|Masculino    |        T�pico  |     Rond�nia        |    Minas Gerais       |                    N/A|    01/06/2022|     09/03/1994|      02/06/2022|                N/A|\n",
            "|    Motocicleta, Moto...|      2022/05|951105-Eletricist...|S80.0 Contusao do...|                2862|Fabricacao de Maq...|Empregador         |Pa               ...|Empregado        ...|                  N�o|353870-Piracicaba...|Contusao, Esmagam...|                   Internet|Joelho           ...|Masculino    |        Trajeto |     Maranh�o        |    S�o Paulo          |                    N/A|    30/05/2022|     11/01/1974|      03/06/2022|                N/A|\n",
            "|    Metal - Inclui Li...|      2022/06|411005-Auxiliar d...|S62.6 Frat de Out...|                 210|Producao Floresta...|Empregador         |Pa               ...|Empregado        ...|                  N�o|500830-Tr�s Lagoa...|Lesao Imediata   ...|                   Internet|Dedo             ...|Feminino     |        T�pico  |                  N/A|    Mato Grosso do Sul |                    N/A|    01/06/2022|     23/05/1996|      03/06/2022|                N/A|\n",
            "|    Atrito ou Abrasao...|      2022/06|517110-Bombeiro d...|S61.0 Ferim de De...|                 161|Atividades de Apo...|Empregador         |Pa               ...|Empregado        ...|                  N�o|140010-Boa Vista-...|Corte, Laceracao,...|                   Internet|Dedo             ...|Masculino    |        T�pico  |     Alagoas         |    Roraima            |                    N/A|    02/06/2022|     24/12/1962|      03/06/2022|                N/A|\n",
            "+------------------------+-------------+--------------------+--------------------+--------------------+--------------------+-------------------+--------------------+--------------------+---------------------+--------------------+--------------------+---------------------------+--------------------+-------------+----------------+---------------------+-----------------------+-----------------------+--------------+---------------+----------------+-------------------+\n",
            "only showing top 20 rows\n",
            "\n"
          ]
        }
      ]
    },
    {
      "cell_type": "markdown",
      "source": [],
      "metadata": {
        "id": "ahSUwJVP1nC-"
      }
    },
    {
      "cell_type": "markdown",
      "source": [],
      "metadata": {
        "id": "qaj9D9V5HlA5"
      }
    },
    {
      "cell_type": "markdown",
      "source": [
        "# Analises\n"
      ],
      "metadata": {
        "id": "4vZuy1mx3d8F"
      }
    },
    {
      "cell_type": "code",
      "source": [
        "\n",
        "len(df.columns) == len(df_concatenado.columns)"
      ],
      "metadata": {
        "id": "XX3Xw8QlNGRG"
      },
      "execution_count": null,
      "outputs": []
    },
    {
      "cell_type": "code",
      "source": [
        "#dfpd = df.toPandas()"
      ],
      "metadata": {
        "id": "N3ztFH2tP9MW"
      },
      "execution_count": null,
      "outputs": []
    },
    {
      "cell_type": "code",
      "source": [
        "#dfpd"
      ],
      "metadata": {
        "id": "-fsWtIIuQI5D"
      },
      "execution_count": null,
      "outputs": []
    },
    {
      "cell_type": "code",
      "source": [
        "df.show(truncate= False)\n"
      ],
      "metadata": {
        "id": "Hm62EmJ6TInc"
      },
      "execution_count": null,
      "outputs": []
    },
    {
      "cell_type": "code",
      "source": [
        "df_concatenado.show(truncate= False)"
      ],
      "metadata": {
        "id": "SdBOikoKVTB2"
      },
      "execution_count": null,
      "outputs": []
    },
    {
      "cell_type": "code",
      "source": [
        "df_count = df_concatenado.groupBy(\"Data Despacho Benefício\").count().filter(\"count > 1\")\n",
        "df_count.orderBy(F.col('count').desc()).show()"
      ],
      "metadata": {
        "id": "Qd1MFFY6MNm9"
      },
      "execution_count": null,
      "outputs": []
    },
    {
      "cell_type": "code",
      "source": [
        "df2=df.groupBy(\"CBO\").count().filter(\"count > 1\")\n",
        "##df4=df3.groupBy(\"fala\").count()\n",
        "df2.orderBy(F.col('count').desc()).show()"
      ],
      "metadata": {
        "id": "jZ-pVDA2WGyC"
      },
      "execution_count": null,
      "outputs": []
    },
    {
      "cell_type": "code",
      "source": [
        "df.filter(F.col('CBO').like('%}%')).show(truncate= False)"
      ],
      "metadata": {
        "id": "EYAgthA_TYsJ"
      },
      "execution_count": null,
      "outputs": []
    },
    {
      "cell_type": "code",
      "source": [
        "df1 = df_concatenado\n",
        "#df1 = df_concatenado.withColumn('agente', F.split(df_concatenado['Agente  Causador  Acidente'], ',').getItem(0)) \\\n",
        "#                    .withColumn('causador', F.split(df_concatenado['Agente  Causador  Acidente'], ',').getItem(1)) \\\n",
        "#                    .withColumn('acidente', F.split(df_concatenado['Agente  Causador  Acidente'], ',').getItem(2))\n",
        "df1.show(truncate=False)"
      ],
      "metadata": {
        "id": "WKGKuiwH_D_t"
      },
      "execution_count": null,
      "outputs": []
    },
    {
      "cell_type": "code",
      "source": [],
      "metadata": {
        "id": "Uhi4fUpDUP3Z"
      },
      "execution_count": null,
      "outputs": []
    },
    {
      "cell_type": "code",
      "source": [
        "dfrename = (df1.withColumnRenamed('CNAE2.0 Empregador5','id')\n",
        "               .withColumnRenamed('Data Acidente','data_acidente')\n",
        "               .withColumnRenamed('Data Acidente1','data_acidente1')\n",
        "               .withColumnRenamed('CNAE2.0 Empregador4','CNAE2_empregador_Num')\n",
        "               .withColumnRenamed('CNAE2.0 Empregador5','CNAE2_empregador')\n",
        "               .withColumnRenamed('Emitente CAT','emitente_CAT')\n",
        "               .withColumnRenamed('Espécie do benefício','especie_do_beneficio')\n",
        "               .withColumnRenamed('Filiação Segurado','filiacao_segurado')\n",
        "               .withColumnRenamed('Indica Óbito Acidente','indica_obito_acidente')\n",
        "               .withColumnRenamed('Munic Empr','municipio_empresa')\n",
        "               .withColumnRenamed('Natureza da Lesão','natureza_da_lesao')\n",
        "               .withColumnRenamed('Origem de Cadastramento CAT','origem_de_cadastramento_CAT')\n",
        "               .withColumnRenamed('Parte Corpo Atingida','parte_corpo_atingida')\n",
        "               .withColumnRenamed('Sexo','sexo')\n",
        "               .withColumnRenamed('Tipo do Acidente','tipo_do_acidente')\n",
        "               .withColumnRenamed('UF  Munic.  Acidente','UF_municipio_acidente')\n",
        "               .withColumnRenamed('UF Munic. Empregador','UF_municipio_empregador')\n",
        "               .withColumnRenamed('Data Acidente18','data_acidente18')\n",
        "               .withColumnRenamed('Data Despacho Benefício','data_despacho_beneficio')\n",
        "               .withColumnRenamed('Data Acidente20','data_acidente20')\n",
        "               .withColumnRenamed('Data Nascimento','data_nascimento')\n",
        "               .withColumnRenamed('Data Emissão CAT','data_emissao_CAT')\n",
        "               .withColumnRenamed('CNPJ/CEI Empregador','CNPJ/CEI_empregador')\n",
        "               .withColumnRenamed('Data Acidente.1','data_acidente1')\n",
        "               .withColumnRenamed('Data Acidente.2','data_acidente2')\n",
        "               .withColumnRenamed('CNAE2.0 Empregador','CNAE2_empregador_Num')\n",
        "               .withColumnRenamed('CNAE2.0 Empregador.1','CNAE2_empregador')\n",
        "               .withColumnRenamed('Sexo','sexo')\n",
        "\n",
        ")\n",
        "dfrename.dtypes"
      ],
      "metadata": {
        "id": "aMJrWdC1Kv9c"
      },
      "execution_count": null,
      "outputs": []
    },
    {
      "cell_type": "markdown",
      "source": [
        "# Filtro e Junção\n"
      ],
      "metadata": {
        "id": "leuOJSmR5xgz"
      }
    },
    {
      "cell_type": "code",
      "source": [
        "dfrename1 = dfrename.drop(F.col('data_acidente1'))\n",
        "#dfrename1 = dfrename1.drop(F.col('Agente  Causador  Acidente'))\n",
        "dfrename1 = dfrename1.drop(F.col('_c0'))\n",
        "#dfrename.select(['Data Acidente.1']).distinct().show()"
      ],
      "metadata": {
        "id": "ub_99lmcY6dH"
      },
      "execution_count": null,
      "outputs": []
    },
    {
      "cell_type": "code",
      "source": [
        "dfrename1 = dfrename1.dropDuplicates()"
      ],
      "metadata": {
        "id": "Gw8d29MU0qWP"
      },
      "execution_count": null,
      "outputs": []
    },
    {
      "cell_type": "code",
      "source": [
        "dfrename1.show()"
      ],
      "metadata": {
        "id": "BuA79Nx2ZMwr"
      },
      "execution_count": null,
      "outputs": []
    },
    {
      "cell_type": "code",
      "source": [
        "dfvalor=dfrename1.groupBy(\"sexo\").count().filter(\"count > 1\")\n",
        "dfvalor.orderBy(F.col('count').desc()).show()"
      ],
      "metadata": {
        "id": "_CwhkHFuXXhx"
      },
      "execution_count": null,
      "outputs": []
    },
    {
      "cell_type": "code",
      "source": [
        "( dfrename1.withColumn('id_tipo_acidente', \n",
        "                                F.when(F.col('tipo_do_acidente').like('%Típico%'),F.lit(1))\n",
        "                                .when(F.col('tipo_do_acidente').like('%Ignorado%'),F.lit(2))\n",
        "                                .when(F.col('tipo_do_acidente').like('%Trajeto%'),F.lit(3))\n",
        "                                .otherwise(F.lit(4)))\n",
        "                                .show()\n",
        ")"
      ],
      "metadata": {
        "id": "XTa9xzzgzt9i"
      },
      "execution_count": null,
      "outputs": []
    },
    {
      "cell_type": "code",
      "source": [
        "( dfrename1.withColumn('id_tipo_acidente', \n",
        "                                F.when(F.col('tipo_do_acidente').like('%Típico%'),F.lit(1))\n",
        "                                .when(F.col('tipo_do_acidente').like('%Ignorado%'),F.lit(2))\n",
        "                                .when(F.col('tipo_do_acidente').like('%Trajeto%'),F.lit(3))\n",
        "                                .otherwise(F.lit(4)))\n",
        "                                .show()\n",
        ")"
      ],
      "metadata": {
        "id": "EUO_vCUYX90q"
      },
      "execution_count": null,
      "outputs": []
    },
    {
      "cell_type": "code",
      "source": [],
      "metadata": {
        "id": "sWza9ZXkYEFp"
      },
      "execution_count": null,
      "outputs": []
    },
    {
      "cell_type": "code",
      "source": [
        "#print(df_renameded.count(),dfrename1.count())"
      ],
      "metadata": {
        "id": "2bXji2ug0UZb"
      },
      "execution_count": null,
      "outputs": []
    },
    {
      "cell_type": "code",
      "source": [
        "dfselect = dfrename1.select(F.col('data_acidente'), F.col('CNAE2_empregador'), F.col('indica_obito_acidente'),F.col('emitente_CAT'), F.col('tipo_do_acidente')).filter((F.col('indica_obito_acidente') == 'Sim') & (F.col('tipo_do_acidente').like('%Doença%') ))\n",
        "dfselect.orderBy(F.col('data_acidente').desc()).show()"
      ],
      "metadata": {
        "id": "ahL22ln_s-NA"
      },
      "execution_count": null,
      "outputs": []
    },
    {
      "cell_type": "markdown",
      "source": [
        "#outros testes"
      ],
      "metadata": {
        "id": "3yCW-gfws-gm"
      }
    },
    {
      "cell_type": "code",
      "source": [
        "#dfrename = dfrename.na.drop(subset=[\"id\"])\n"
      ],
      "metadata": {
        "id": "XBEkxUkvClJw"
      },
      "execution_count": null,
      "outputs": []
    },
    {
      "cell_type": "code",
      "source": [
        "#dfrename.write.csv(\"/content/teste/test.csv\")x"
      ],
      "metadata": {
        "id": "eQvU2rWjPDzu"
      },
      "execution_count": null,
      "outputs": []
    },
    {
      "cell_type": "code",
      "source": [
        "dfrename3 = dfrename.withColumn('data_acidente3_mes', F.split(dfrename['data_acidente2'], '/').getItem(1)) \\\n",
        "                    .withColumn('data_acidente3_ano', F.split(dfrename['data_acidente2'], '/').getItem(2)) \\\n",
        "                    .withColumn('data_acidente4_mes', F.split(dfrename['data_acidente'], '/').getItem(1)) \\\n",
        "                    .withColumn('data_acidente4_ano', F.split(dfrename['data_acidente'], '/').getItem(0)) \n",
        "                    "
      ],
      "metadata": {
        "id": "8toVOKYffgvI"
      },
      "execution_count": null,
      "outputs": []
    },
    {
      "cell_type": "code",
      "source": [
        "dfrename3.show()"
      ],
      "metadata": {
        "id": "9ri9vO1_gDeS"
      },
      "execution_count": null,
      "outputs": []
    },
    {
      "cell_type": "code",
      "source": [
        "d5 = dfrename3.select(F.col('data_acidente3_ano'), F.col('data_acidente4_ano')).filter(F.col('data_acidente3_ano') !=  F.col('data_acidente4_ano'))\n",
        "d5.show()"
      ],
      "metadata": {
        "id": "WiUJ8Yi0hwdU"
      },
      "execution_count": null,
      "outputs": []
    },
    {
      "cell_type": "code",
      "source": [
        "d6 = dfrename.select(F.col('data_acidente'), F.col('data_acidente1'))\n",
        "d5 = dfrename.select(F.col('data_acidente'), F.col('data_acidente2')).filter(F.col('data_acidente') ==  F.col('data_acidente2'))\n",
        "d5.show()\n",
        "print(d5.count())\n",
        "print(d6.count())"
      ],
      "metadata": {
        "id": "Jwr1sEp9AmPh"
      },
      "execution_count": null,
      "outputs": []
    },
    {
      "cell_type": "code",
      "source": [
        "dfrename1.dtypes"
      ],
      "metadata": {
        "id": "h8IagLX98N_z"
      },
      "execution_count": null,
      "outputs": []
    },
    {
      "cell_type": "code",
      "source": [],
      "metadata": {
        "id": "drkHbErY85X6"
      },
      "execution_count": null,
      "outputs": []
    },
    {
      "cell_type": "code",
      "source": [],
      "metadata": {
        "id": "Lj7epF88rdDS"
      },
      "execution_count": null,
      "outputs": []
    }
  ]
}